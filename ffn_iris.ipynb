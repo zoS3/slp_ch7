{
 "cells": [
  {
   "cell_type": "code",
   "execution_count": 1,
   "metadata": {},
   "outputs": [],
   "source": [
    "\"\"\"\n",
    "p139の式(7.1)のfeed forward networkを使ってirisを分類する\n",
    "\"\"\"\n",
    "\n",
    "import numpy as np\n",
    "from sklearn.datasets import load_iris\n",
    "from sklearn.model_selection import train_test_split"
   ]
  },
  {
   "cell_type": "code",
   "execution_count": 2,
   "metadata": {},
   "outputs": [],
   "source": [
    "d = load_iris()\n",
    "data = d['data']\n",
    "target = d['target']\n",
    "train_data, test_data, train_target, test_target = train_test_split(data, target)"
   ]
  },
  {
   "cell_type": "code",
   "execution_count": 3,
   "metadata": {},
   "outputs": [],
   "source": [
    "def sigmoid(x):\n",
    "    x = np.clip(x, -600, np.inf)  # overflow対策\n",
    "    return 1. / (1.+np.exp(-x))\n",
    "\n",
    "def softmax(x):\n",
    "    m = np.max(x)  # overflow対策\n",
    "    return np.exp(x - m) / np.sum(np.exp(x - m))"
   ]
  },
  {
   "cell_type": "code",
   "execution_count": 4,
   "metadata": {},
   "outputs": [],
   "source": [
    "input_size = data.shape[1]\n",
    "hidden_size = 10\n",
    "output_size = len(np.unique(target))\n",
    "lr = 0.01\n",
    "num_epochs = 150\n",
    "\n",
    "W = np.random.randn(hidden_size, input_size)\n",
    "b = np.random.randn(hidden_size)\n",
    "U = np.random.randn(output_size, hidden_size)\n",
    "\n",
    "# train\n",
    "losses = []\n",
    "for _ in range(num_epochs):\n",
    "    epoch_loss = 0\n",
    "    # online SGD\n",
    "    for _ in range(len(train_data)):\n",
    "        r = np.random.randint(len(train_data))\n",
    "        x = train_data[r]\n",
    "        target_label = train_target[r]\n",
    "        t = np.zeros(output_size)\n",
    "        # one-hot target vector\n",
    "        t[target_label] = 1.\n",
    "        \n",
    "        # forward\n",
    "        # 勾配計算の都合上、slpの本文中にない変数vを導入している\n",
    "        v = np.dot(W, x) + b\n",
    "        h = sigmoid(v)\n",
    "        z = np.dot(U, h)\n",
    "        y = softmax(z)\n",
    "        L = -np.sum(t*np.log(y))\n",
    "        epoch_loss += L\n",
    "        \n",
    "        # backward\n",
    "        # バッチ非対応のため、ゼロから作るdeep learningの式と若干違うことに注意\n",
    "        dLdz = y - t\n",
    "        dLdU = np.dot(dLdz.reshape(-1, 1), h.reshape(1, -1))\n",
    "        dLdh = np.dot(U.transpose(), dLdz)\n",
    "        dLdv = dLdh * sigmoid(v) * (1.-sigmoid(v))\n",
    "        dLdW = np.dot(dLdv.reshape(-1, 1), x.reshape(1, -1))\n",
    "        dLdb = dLdv\n",
    "        \n",
    "        assert dLdz.shape == z.shape\n",
    "        assert dLdU.shape == U.shape\n",
    "        assert dLdh.shape == h.shape\n",
    "        assert dLdv.shape == v.shape\n",
    "        assert dLdW.shape == W.shape\n",
    "        assert dLdb.shape == b.shape\n",
    "\n",
    "        # gradient descent\n",
    "        W -= lr*dLdW\n",
    "        b -= lr*dLdb\n",
    "        U -= lr*dLdU\n",
    "    losses.append(epoch_loss)"
   ]
  },
  {
   "cell_type": "code",
   "execution_count": 5,
   "metadata": {},
   "outputs": [
    {
     "data": {
      "text/plain": [
       "[<matplotlib.lines.Line2D at 0x118431f28>]"
      ]
     },
     "execution_count": 5,
     "metadata": {},
     "output_type": "execute_result"
    },
    {
     "data": {
      "image/png": "[encoded data removed]",
      "text/plain": [
       "<Figure size 432x288 with 1 Axes>"
      ]
     },
     "metadata": {
      "needs_background": "light"
     },
     "output_type": "display_data"
    }
   ],
   "source": [
    "%matplotlib inline\n",
    "import matplotlib.pyplot as plt\n",
    "plt.xlabel('epoch')\n",
    "plt.ylabel('loss')\n",
    "plt.plot(losses)"
   ]
  },
  {
   "cell_type": "code",
   "execution_count": 6,
   "metadata": {},
   "outputs": [
    {
     "name": "stdout",
     "output_type": "stream",
     "text": [
      "0.9210526315789473\n"
     ]
    }
   ],
   "source": [
    "# predict and evaluate\n",
    "from sklearn.metrics import accuracy_score\n",
    "prediction = []\n",
    "for x in test_data:\n",
    "    v = np.dot(W, x) + b\n",
    "    h = sigmoid(v)\n",
    "    z = np.dot(U, h)\n",
    "    y = softmax(z)\n",
    "    predicted_label = np.argmax(y)\n",
    "    prediction.append(predicted_label)\n",
    "print(accuracy_score(test_target, prediction))"
   ]
  },
  {
   "cell_type": "code",
   "execution_count": null,
   "metadata": {},
   "outputs": [],
   "source": []
  }
 ],
 "metadata": {
  "kernelspec": {
   "display_name": "Python 3",
   "language": "python",
   "name": "python3"
  },
  "language_info": {
   "codemirror_mode": {
    "name": "ipython",
    "version": 3
   },
   "file_extension": ".py",
   "mimetype": "text/x-python",
   "name": "python",
   "nbconvert_exporter": "python",
   "pygments_lexer": "ipython3",
   "version": "3.7.3"
  }
 },
 "nbformat": 4,
 "nbformat_minor": 2
}
