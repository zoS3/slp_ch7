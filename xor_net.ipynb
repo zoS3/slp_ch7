{
 "cells": [
  {
   "cell_type": "code",
   "execution_count": 18,
   "metadata": {},
   "outputs": [],
   "source": [
    "relu = lambda x: max(0, x)\n",
    "\n",
    "def xor_net(x1, x2):\n",
    "    h1 = relu(x1*1 + x2*1 + 0)\n",
    "    h2 = relu(x1*1 + x2*1 + (-1))\n",
    "    y1 = relu(h1*1 + h2*(-2) + 0)\n",
    "    return (h1, h2), y1"
   ]
  },
  {
   "cell_type": "code",
   "execution_count": 22,
   "metadata": {},
   "outputs": [
    {
     "name": "stdout",
     "output_type": "stream",
     "text": [
      "x:(0, 0), h:(0, 0), y:0\n",
      "x:(0, 1), h:(1, 0), y:1\n",
      "x:(1, 0), h:(1, 0), y:1\n",
      "x:(1, 1), h:(2, 1), y:0\n"
     ]
    }
   ],
   "source": [
    "x = [(0, 0), (0, 1), (1, 0), (1, 1)]\n",
    "\n",
    "for x1, x2 in x:\n",
    "    (h1, h2), y1 = xor_net(x1, x2)\n",
    "    print(f'x:{(x1, x2)}, h:{(h1, h2)}, y:{y1}')"
   ]
  },
  {
   "cell_type": "code",
   "execution_count": 24,
   "metadata": {},
   "outputs": [],
   "source": [
    "# xは線形分離できないが、hは線形分離できる"
   ]
  },
  {
   "cell_type": "code",
   "execution_count": null,
   "metadata": {},
   "outputs": [],
   "source": []
  }
 ],
 "metadata": {
  "kernelspec": {
   "display_name": "Python 3",
   "language": "python",
   "name": "python3"
  },
  "language_info": {
   "codemirror_mode": {
    "name": "ipython",
    "version": 3
   },
   "file_extension": ".py",
   "mimetype": "text/x-python",
   "name": "python",
   "nbconvert_exporter": "python",
   "pygments_lexer": "ipython3",
   "version": "3.7.3"
  }
 },
 "nbformat": 4,
 "nbformat_minor": 2
}
