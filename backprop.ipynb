{
 "cells": [
  {
   "cell_type": "code",
   "execution_count": 1,
   "metadata": {},
   "outputs": [
    {
     "name": "stdout",
     "output_type": "stream",
     "text": [
      "-2.0\n",
      "-4.0\n",
      "5.0\n"
     ]
    }
   ],
   "source": [
    "\"\"\"\n",
    "backpropagationのデモ\n",
    "\"\"\"\n",
    "\n",
    "\n",
    "class AddLayer:\n",
    "    def forward(self, x, y):\n",
    "        z = x+y\n",
    "        return z\n",
    "    def backward(self):\n",
    "        # dz/dx, dz/dy\n",
    "        return 1., 1.\n",
    "    \n",
    "class MulLayer:\n",
    "    def forward(self, x, y):\n",
    "        self.x = x\n",
    "        self.y = y\n",
    "        z = x*y\n",
    "        return z\n",
    "    def backward(self):\n",
    "        # dz/dx, dz/dy\n",
    "        return self.y, self.x\n",
    "    \n",
    "class MulTwoLayer:\n",
    "    def forward(self, x):\n",
    "        self.x = x\n",
    "        z = 2.*x\n",
    "        return z\n",
    "    def backward(self):\n",
    "        # dz/dx\n",
    "        return 2.\n",
    "\n",
    "a = 3.\n",
    "b = 1.\n",
    "c = -2.\n",
    "\n",
    "add = AddLayer()\n",
    "mul_two = MulTwoLayer()\n",
    "mul = MulLayer()\n",
    "\n",
    "d = mul_two.forward(b)\n",
    "e = add.forward(a, d)\n",
    "L = mul.forward(c, e)\n",
    "\n",
    "dLdc, dLde = mul.backward()\n",
    "deda, dedd = add.backward()\n",
    "dLda = dLde*deda\n",
    "dLdd = dLde*dedd\n",
    "dddb = mul_two.backward()\n",
    "dLdb = dLdd*dddb\n",
    "\n",
    "print(dLda)\n",
    "print(dLdb)\n",
    "print(dLdc)"
   ]
  },
  {
   "cell_type": "code",
   "execution_count": 2,
   "metadata": {},
   "outputs": [
    {
     "name": "stdout",
     "output_type": "stream",
     "text": [
      "tensor([-2.])\n",
      "tensor([-4.])\n",
      "tensor([5.])\n"
     ]
    }
   ],
   "source": [
    "import torch\n",
    "\n",
    "\n",
    "a = torch.tensor([3.], requires_grad=True)\n",
    "b = torch.tensor([1.], requires_grad=True)\n",
    "c = torch.tensor([-2.], requires_grad=True)\n",
    "d = 2.*b\n",
    "e = a+d\n",
    "L = c*e\n",
    "\n",
    "L.backward()\n",
    "\n",
    "print(a.grad)\n",
    "print(b.grad)\n",
    "print(c.grad)"
   ]
  },
  {
   "cell_type": "code",
   "execution_count": null,
   "metadata": {},
   "outputs": [],
   "source": []
  }
 ],
 "metadata": {
  "kernelspec": {
   "display_name": "Python 3",
   "language": "python",
   "name": "python3"
  },
  "language_info": {
   "codemirror_mode": {
    "name": "ipython",
    "version": 3
   },
   "file_extension": ".py",
   "mimetype": "text/x-python",
   "name": "python",
   "nbconvert_exporter": "python",
   "pygments_lexer": "ipython3",
   "version": "3.7.3"
  }
 },
 "nbformat": 4,
 "nbformat_minor": 2
}
