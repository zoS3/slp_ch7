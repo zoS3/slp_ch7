{
 "cells": [
  {
   "cell_type": "code",
   "execution_count": 1,
   "metadata": {},
   "outputs": [],
   "source": [
    "\"\"\"\n",
    "n-gramのneural language modelで学習と予測を行うプログラム\n",
    "\"\"\"\n",
    "\n",
    "import torch\n",
    "import torch.nn as nn\n",
    "import torch.optim as optim\n",
    "\n",
    "\n",
    "class NLM(nn.Module):\n",
    "    \"\"\"\n",
    "    n-gram neural language model\n",
    "    \"\"\"\n",
    "\n",
    "    def __init__(self, context_size, vocab_size, embedding_dim, hidden_dim):\n",
    "        super().__init__()\n",
    "        self.embedding = nn.Embedding(vocab_size, embedding_dim)\n",
    "        self.linear_W = nn.Linear(context_size*embedding_dim, hidden_dim)\n",
    "        self.linear_U = nn.Linear(hidden_dim, vocab_size)\n",
    "\n",
    "    def forward(self, context_word_ids):\n",
    "        # shape: (1, context_size*embedding_dim)\n",
    "        projection_layer = self.embedding(context_word_ids).view(1, -1)\n",
    "        # shape: (1, hidden_dim)\n",
    "        hidden_layer = torch.relu(self.linear_W(projection_layer))\n",
    "        # shape: (1, vocab_size)\n",
    "        output_layer = self.linear_U(hidden_layer)\n",
    "        # shape: (1, vocab_size)\n",
    "        return torch.log_softmax(output_layer, dim=1)\n",
    "\n",
    "\n",
    "def build_vocab(sentences):\n",
    "    all_tokens = []\n",
    "    for s in sentences:\n",
    "        all_tokens += s.split()\n",
    "    vocab = set(all_tokens)\n",
    "    token_to_index = dict(zip(vocab, range(len(vocab))))\n",
    "    index_to_token = {index: token for token, index in token_to_index.items()}\n",
    "    return token_to_index, index_to_token\n",
    "\n",
    "\n",
    "def get_ngram_data(context_size, sentences, token_to_index):\n",
    "    contexts, targets = [], []\n",
    "    for s in sentences:\n",
    "        tokens = s.split()\n",
    "        for i in range(len(tokens)):\n",
    "            if i+context_size == len(tokens):\n",
    "                break\n",
    "            context, target = tokens[i:i+context_size], tokens[i+context_size]\n",
    "            context = torch.tensor(\n",
    "                [token_to_index[w] for w in context], dtype=torch.long)\n",
    "            target = torch.tensor(\n",
    "                [token_to_index[target]], dtype=torch.long)\n",
    "            contexts.append(context)\n",
    "            targets.append(target)\n",
    "    return contexts, targets"
   ]
  },
  {
   "cell_type": "code",
   "execution_count": 2,
   "metadata": {},
   "outputs": [
    {
     "name": "stdout",
     "output_type": "stream",
     "text": [
      "{'feed': 0, 'have': 1, 'the': 2, 'sure': 3, 'house': 4, 'you': 5, '.': 6, 'home': 7, 'when': 8, 'get': 9, 'to': 10, 'cat': 11, 'I': 12, 'make': 13, 'foo': 14, 'dog': 15}\n",
      "{0: 'feed', 1: 'have', 2: 'the', 3: 'sure', 4: 'house', 5: 'you', 6: '.', 7: 'home', 8: 'when', 9: 'get', 10: 'to', 11: 'cat', 12: 'I', 13: 'make', 14: 'foo', 15: 'dog'}\n",
      "tensor([12,  1, 10])\n",
      "tensor([13])\n"
     ]
    }
   ],
   "source": [
    "sentences = [\n",
    "    \"I have to make sure when I get home to foo the cat .\",\n",
    "    \"I have to make foo when I get home to feed the cat .\",\n",
    "    \"I have to make sure when you get home to feed the cat .\",\n",
    "    \"I have to make sure when I get house to feed the dog .\"]\n",
    "\n",
    "token_to_index, index_to_token = build_vocab(sentences)\n",
    "ngram_size = 4\n",
    "context_size = ngram_size - 1\n",
    "contexts, targets = get_ngram_data(context_size, sentences, token_to_index)\n",
    "\n",
    "print(token_to_index)\n",
    "print(index_to_token)\n",
    "print(contexts[0])\n",
    "print(targets[0])"
   ]
  },
  {
   "cell_type": "code",
   "execution_count": 3,
   "metadata": {},
   "outputs": [],
   "source": [
    "import numpy as np\n",
    "model = NLM(\n",
    "    context_size=context_size, vocab_size=len(token_to_index),\n",
    "    embedding_dim=32, hidden_dim=32)\n",
    "criterion = nn.NLLLoss()\n",
    "optimizer = optim.SGD(model.parameters(), lr=0.01)\n",
    "num_epochs = 30\n",
    "\n",
    "# training\n",
    "losses = []\n",
    "for _ in range(num_epochs):\n",
    "    epoch_loss = 0.\n",
    "    # online SGD\n",
    "    for _ in range(len(contexts)):\n",
    "        r = np.random.randint(len(contexts))\n",
    "        context = contexts[r]\n",
    "        target = targets[r]\n",
    "        optimizer.zero_grad()\n",
    "        log_prob = model(context)\n",
    "        loss = criterion(log_prob, target)\n",
    "        epoch_loss += loss\n",
    "        loss.backward()\n",
    "        optimizer.step()\n",
    "    losses.append(epoch_loss)"
   ]
  },
  {
   "cell_type": "code",
   "execution_count": 4,
   "metadata": {},
   "outputs": [
    {
     "data": {
      "text/plain": [
       "[<matplotlib.lines.Line2D at 0x12730d2b0>]"
      ]
     },
     "execution_count": 4,
     "metadata": {},
     "output_type": "execute_result"
    },
    {
     "data": {
      "image/png": "[encoded data removed]",
      "text/plain": [
       "<Figure size 432x288 with 1 Axes>"
      ]
     },
     "metadata": {
      "needs_background": "light"
     },
     "output_type": "display_data"
    }
   ],
   "source": [
    "%matplotlib inline\n",
    "import matplotlib.pyplot as plt\n",
    "plt.xlabel('epoch')\n",
    "plt.ylabel('loss')\n",
    "plt.plot(losses)"
   ]
  },
  {
   "cell_type": "code",
   "execution_count": 5,
   "metadata": {},
   "outputs": [
    {
     "name": "stdout",
     "output_type": "stream",
     "text": [
      "corpus sentences:\n",
      "I have to make sure when I get home to foo the cat .\n",
      "I have to make foo when I get home to feed the cat .\n",
      "I have to make sure when you get home to feed the cat .\n",
      "I have to make sure when I get house to feed the dog .\n",
      "\n",
      "I have to make foo when I get home to feed the cat .\n"
     ]
    }
   ],
   "source": [
    "print('corpus sentences:')\n",
    "for s in sentences:\n",
    "    print(s)\n",
    "print()\n",
    "\n",
    "# predict\n",
    "context_words = ['I', 'have', 'to']\n",
    "assert len(context_words) == context_size\n",
    "predicted_tokens = context_words.copy()\n",
    "while True:\n",
    "    context_tensor = torch.tensor([token_to_index[w] for w in context_words])\n",
    "    predicted_log_prob = model(context_tensor)\n",
    "    next_word_index = torch.argmax(predicted_log_prob).item()\n",
    "    next_word = index_to_token[next_word_index]\n",
    "    predicted_tokens.append(next_word)\n",
    "    if next_word == '.':\n",
    "        break\n",
    "    context_words.pop(0)\n",
    "    context_words.append(next_word)\n",
    "\n",
    "# 最も尤度が大きい文を生成できている\n",
    "print(' '.join(predicted_tokens))"
   ]
  },
  {
   "cell_type": "code",
   "execution_count": 6,
   "metadata": {},
   "outputs": [
    {
     "name": "stdout",
     "output_type": "stream",
     "text": [
      "tensor([[-6.6579, -8.4844, -5.7965, -5.5818, -7.9828, -7.5240, -7.6639, -7.4778,\n",
      "         -4.4591, -8.4202, -4.2707, -7.2909, -7.3694, -0.0589, -3.9298, -8.1141]],\n",
      "       grad_fn=<LogSoftmaxBackward>)\n",
      "make\n"
     ]
    }
   ],
   "source": [
    "# 'I have foo'はコーパスに出現しないが、P(w | I have foo)はゼロにならない\n",
    "# つまりsmoothingの必要がない\n",
    "# 'make' = argmax P(w | I have foo)となり、妥当な結果といえる\n",
    "\n",
    "context_words = ['I', 'have', 'foo']\n",
    "context_tensor = torch.tensor([token_to_index[w] for w in context_words])\n",
    "predicted_log_prob = model(context_tensor)\n",
    "print(predicted_log_prob)\n",
    "next_word_index = torch.argmax(predicted_log_prob).item()\n",
    "next_word = index_to_token[next_word_index]\n",
    "print(next_word)"
   ]
  },
  {
   "cell_type": "code",
   "execution_count": null,
   "metadata": {},
   "outputs": [],
   "source": []
  }
 ],
 "metadata": {
  "kernelspec": {
   "display_name": "Python 3",
   "language": "python",
   "name": "python3"
  },
  "language_info": {
   "codemirror_mode": {
    "name": "ipython",
    "version": 3
   },
   "file_extension": ".py",
   "mimetype": "text/x-python",
   "name": "python",
   "nbconvert_exporter": "python",
   "pygments_lexer": "ipython3",
   "version": "3.7.3"
  }
 },
 "nbformat": 4,
 "nbformat_minor": 2
}
