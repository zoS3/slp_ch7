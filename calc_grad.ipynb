{
 "cells": [
  {
   "cell_type": "code",
   "execution_count": 34,
   "metadata": {},
   "outputs": [
    {
     "name": "stdout",
     "output_type": "stream",
     "text": [
      "tensor([-2.])\n",
      "tensor([-4.])\n",
      "tensor([5.])\n"
     ]
    }
   ],
   "source": [
    "\"\"\"\n",
    "pytorchのautogradで勾配を計算する\n",
    "\"\"\"\n",
    "\n",
    "import torch\n",
    "\n",
    "\n",
    "a = torch.tensor([3.], requires_grad=True)\n",
    "b = torch.tensor([1.], requires_grad=True)\n",
    "c = torch.tensor([-2.], requires_grad=True)\n",
    "d = 2.*b\n",
    "e = a+d\n",
    "L = c*e\n",
    "\n",
    "L.backward()\n",
    "\n",
    "print(a.grad)\n",
    "print(b.grad)\n",
    "print(c.grad)"
   ]
  }
 ],
 "metadata": {
  "kernelspec": {
   "display_name": "Python 3",
   "language": "python",
   "name": "python3"
  },
  "language_info": {
   "codemirror_mode": {
    "name": "ipython",
    "version": 3
   },
   "file_extension": ".py",
   "mimetype": "text/x-python",
   "name": "python",
   "nbconvert_exporter": "python",
   "pygments_lexer": "ipython3",
   "version": "3.7.3"
  }
 },
 "nbformat": 4,
 "nbformat_minor": 2
}
