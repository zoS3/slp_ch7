{
 "cells": [
  {
   "cell_type": "code",
   "execution_count": 1,
   "metadata": {},
   "outputs": [],
   "source": [
    "\"\"\"\n",
    "n-gramのneural language modelで学習と予測を行うプログラム\n",
    "\"\"\"\n",
    "\n",
    "import torch\n",
    "import torch.nn as nn\n",
    "import torch.optim as optim\n",
    "\n",
    "\n",
    "class NLM(nn.Module):\n",
    "    \"\"\"\n",
    "    n-gram neural language model\n",
    "    \"\"\"\n",
    "\n",
    "    def __init__(self, context_size, vocab_size, embedding_dim, hidden_dim):\n",
    "        super().__init__()\n",
    "        self.embedding = nn.Embedding(vocab_size, embedding_dim)\n",
    "        self.linear_W = nn.Linear(context_size*embedding_dim, hidden_dim)\n",
    "        self.linear_U = nn.Linear(hidden_dim, vocab_size, bias=False)\n",
    "\n",
    "    def forward(self, context_word_ids):\n",
    "        batch_size = len(context_word_ids)\n",
    "        # shape: (batch_size, context_size*embedding_dim)\n",
    "        projection_layer = self.embedding(context_word_ids).view(batch_size, -1)\n",
    "        # shape: (batch_size, hidden_dim)\n",
    "        hidden_layer = torch.relu(self.linear_W(projection_layer))\n",
    "        # shape: (batch_size, vocab_size)\n",
    "        output_layer = self.linear_U(hidden_layer)\n",
    "        # shape: (batch_size, vocab_size)\n",
    "        return torch.log_softmax(output_layer, dim=1)\n",
    "\n",
    "\n",
    "def build_vocab(sentences):\n",
    "    all_tokens = []\n",
    "    for s in sentences:\n",
    "        all_tokens += s.split()\n",
    "    vocab = set(all_tokens)\n",
    "    token_to_index = dict(zip(vocab, range(len(vocab))))\n",
    "    index_to_token = {index: token for token, index in token_to_index.items()}\n",
    "    return token_to_index, index_to_token\n",
    "\n",
    "\n",
    "def get_ngram_data(context_size, sentences, token_to_index):\n",
    "    contexts, targets = [], []\n",
    "    for s in sentences:\n",
    "        tokens = s.split()\n",
    "        for i in range(len(tokens)):\n",
    "            if i+context_size == len(tokens):\n",
    "                break\n",
    "            context, target = tokens[i:i+context_size], tokens[i+context_size]\n",
    "            context = torch.tensor(\n",
    "                [token_to_index[w] for w in context], dtype=torch.long)\n",
    "            target = torch.tensor(\n",
    "                [token_to_index[target]], dtype=torch.long)\n",
    "            contexts.append(context)\n",
    "            targets.append(target)\n",
    "    return torch.stack(contexts), torch.stack(targets)"
   ]
  },
  {
   "cell_type": "code",
   "execution_count": 2,
   "metadata": {},
   "outputs": [],
   "source": [
    "sentences = []\n",
    "with open('neko.txt.mecab', 'r') as f:\n",
    "    for line in f:\n",
    "        line = line.strip()\n",
    "        if not line:\n",
    "            continue\n",
    "        sentences.append(line)"
   ]
  },
  {
   "cell_type": "code",
   "execution_count": 3,
   "metadata": {},
   "outputs": [
    {
     "name": "stdout",
     "output_type": "stream",
     "text": [
      "tensor([  61, 3522, 1092])\n",
      "tensor([2464])\n"
     ]
    }
   ],
   "source": [
    "ngram_size = 4\n",
    "context_size = ngram_size - 1\n",
    "sentences = [s for s in sentences if len(s.split()) >= ngram_size]\n",
    "sentences = sentences[:1000]\n",
    "token_to_index, index_to_token = build_vocab(sentences)\n",
    "contexts, targets = get_ngram_data(context_size, sentences, token_to_index)\n",
    "\n",
    "print(contexts[0])\n",
    "print(targets[0])"
   ]
  },
  {
   "cell_type": "code",
   "execution_count": 4,
   "metadata": {},
   "outputs": [
    {
     "data": {
      "application/vnd.jupyter.widget-view+json": {
       "model_id": "14c68e070ae94ac8b35597548c942deb",
       "version_major": 2,
       "version_minor": 0
      },
      "text/plain": [
       "HBox(children=(IntProgress(value=0, max=20), HTML(value='')))"
      ]
     },
     "metadata": {},
     "output_type": "display_data"
    },
    {
     "name": "stdout",
     "output_type": "stream",
     "text": [
      "3993.388671875\n",
      "3588.400390625\n",
      "3303.180419921875\n",
      "3099.498779296875\n",
      "2952.833740234375\n",
      "2809.509765625\n",
      "2702.76806640625\n",
      "2601.688232421875\n",
      "2537.7666015625\n",
      "2478.9130859375\n",
      "2458.265380859375\n",
      "2358.234375\n",
      "2366.415771484375\n",
      "2328.14306640625\n",
      "2285.31298828125\n",
      "2305.799072265625\n",
      "2311.212890625\n",
      "2298.869140625\n",
      "2288.45703125\n",
      "2243.047119140625\n",
      "\n"
     ]
    }
   ],
   "source": [
    "import numpy as np\n",
    "from tqdm import tqdm_notebook\n",
    "model = NLM(\n",
    "    context_size=context_size, vocab_size=len(token_to_index),\n",
    "    embedding_dim=32, hidden_dim=32)\n",
    "criterion = nn.NLLLoss()\n",
    "optimizer = optim.Adam(model.parameters(), lr=0.01)\n",
    "num_epochs = 20\n",
    "batch_size =32\n",
    "\n",
    "# training\n",
    "losses = []\n",
    "for _ in tqdm_notebook(range(num_epochs)):\n",
    "    epoch_loss = 0.\n",
    "    # batch Adam\n",
    "    for _ in range(int(len(contexts) / batch_size)):\n",
    "        r = np.random.randint(len(contexts), size=batch_size)\n",
    "        context = contexts[r]\n",
    "        target = targets[r]\n",
    "        optimizer.zero_grad()\n",
    "        log_prob = model(context)\n",
    "        loss = criterion(log_prob, target.view(-1))\n",
    "        epoch_loss += loss\n",
    "        loss.backward()\n",
    "        optimizer.step()\n",
    "    print(epoch_loss.item())\n",
    "    losses.append(epoch_loss)"
   ]
  },
  {
   "cell_type": "code",
   "execution_count": 5,
   "metadata": {},
   "outputs": [
    {
     "data": {
      "text/plain": [
       "[<matplotlib.lines.Line2D at 0x11ab861d0>]"
      ]
     },
     "execution_count": 5,
     "metadata": {},
     "output_type": "execute_result"
    },
    {
     "data": {
      "image/png": "[encoded data removed]",
      "text/plain": [
       "<Figure size 432x288 with 1 Axes>"
      ]
     },
     "metadata": {
      "needs_background": "light"
     },
     "output_type": "display_data"
    }
   ],
   "source": [
    "%matplotlib inline\n",
    "import matplotlib.pyplot as plt\n",
    "plt.xlabel('epoch')\n",
    "plt.ylabel('loss')\n",
    "plt.plot(losses)"
   ]
  },
  {
   "cell_type": "code",
   "execution_count": 6,
   "metadata": {},
   "outputs": [
    {
     "name": "stdout",
     "output_type": "stream",
     "text": [
      "吾輩 は 猫 より 申 すぐ し て いる 。\n",
      "名前 は まだ ない 。\n",
      "どこ で 生れ て 、 毛 の よう に なっ て いる の 画 を すぐ で ある 。\n",
      "何 でも 薄暗い 供 。\n",
      "吾輩 は ここ の よう に なっ て いる の 画 を すぐ で ある 。\n",
      "しかも あと で ある 。\n"
     ]
    }
   ],
   "source": [
    "# predict\n",
    "def predict(context_words):\n",
    "    assert len(context_words) == context_size\n",
    "    predicted_tokens = context_words.copy()\n",
    "    while True:\n",
    "        context_tensor = torch.tensor([token_to_index[w] for w in context_words])\n",
    "        predicted_log_prob = model(context_tensor.view(1, -1))\n",
    "        next_word_index = torch.argmax(predicted_log_prob).item()\n",
    "        next_word = index_to_token[next_word_index]\n",
    "        predicted_tokens.append(next_word)\n",
    "        if next_word == '。':\n",
    "            break\n",
    "        context_words.pop(0)\n",
    "        context_words.append(next_word)\n",
    "\n",
    "    print(' '.join(predicted_tokens))\n",
    "    \n",
    "predict(['吾輩', 'は', '猫'])\n",
    "predict(['名前', 'は', 'まだ'])\n",
    "predict(['どこ', 'で', '生れ'])\n",
    "predict(['何', 'でも', '薄暗い'])\n",
    "predict(['吾輩', 'は', 'ここ'])\n",
    "predict(['しかも', 'あと', 'で'])"
   ]
  },
  {
   "cell_type": "code",
   "execution_count": null,
   "metadata": {},
   "outputs": [],
   "source": []
  }
 ],
 "metadata": {
  "kernelspec": {
   "display_name": "Python 3",
   "language": "python",
   "name": "python3"
  },
  "language_info": {
   "codemirror_mode": {
    "name": "ipython",
    "version": 3
   },
   "file_extension": ".py",
   "mimetype": "text/x-python",
   "name": "python",
   "nbconvert_exporter": "python",
   "pygments_lexer": "ipython3",
   "version": "3.7.3"
  }
 },
 "nbformat": 4,
 "nbformat_minor": 2
}
